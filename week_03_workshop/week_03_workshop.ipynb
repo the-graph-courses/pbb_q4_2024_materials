{
  "cells": [
    {
      "cell_type": "markdown",
      "metadata": {},
      "source": [
        "---\n",
        "title: \"Workshop: Data Visualizations with the Ames Housing Dataset\"\n",
        "---\n",
        "\n",
        "## Introduction\n",
        "\n",
        "In this workshop, you'll apply your knowledge of data visualization using the Ames housing dataset.\n",
        "\n",
        "In the first section, you'll create simple plots to explore various aspects of the dataset.\n",
        "\n",
        "In the second section, you'll practice fixing code errors and improving code readability.\n",
        "\n",
        "In the third section, you'll create plots using a for loop.\n",
        "\n",
        "In the fourth section, you'll create a multivariate plot and interpret your findings.\n",
        "\n",
        "The first two sections should be completed together in your group. The last two sections can be completed individually.\n",
        "\n",
        "## Part 1: Exploratory Data Visualization\n",
        "\n",
        "Consider the following questions about the Ames housing dataset. For each question, create a simple plot that addresses the question. Your plots do not have to be elegant; focus on selecting the appropriate type of visualization for each question. (No need to customize axes, labels, etc.)\n",
        "\n",
        "First, import the necessary libraries and read in the dataset:"
      ]
    },
    {
      "cell_type": "code",
      "metadata": {},
      "source": [
        "import pandas as pd\n",
        "import plotly.express as px\n",
        "\n",
        "ames = pd.read_csv(\"ames.csv\")\n",
        "ames.columns = ames.columns.str.replace(\".\", \"_\")"
      ],
      "execution_count": null,
      "outputs": []
    },
    {
      "cell_type": "markdown",
      "metadata": {},
      "source": [
        "1. **What is the relationship between the size of the house and the price?** (This will be done for you in class.)\n",
        "   - Variables: `Lot_Area`, `price`"
      ]
    },
    {
      "cell_type": "code",
      "metadata": {},
      "source": [
        "# Create a scatter plot of Lot_Area vs. price\n",
        "# ANSWER HERE"
      ],
      "execution_count": null,
      "outputs": []
    },
    {
      "cell_type": "markdown",
      "metadata": {},
      "source": [
        "2. **Are houses originally built earlier in the 1900s more expensive than those built later in the century?**\n",
        "   - Variables: `Year_Built`, `price`"
      ]
    },
    {
      "cell_type": "code",
      "metadata": {},
      "source": [
        "# Create a plot to explore the relationship between Year_Built and price\n",
        "# ANSWER HERE"
      ],
      "execution_count": null,
      "outputs": []
    },
    {
      "cell_type": "markdown",
      "metadata": {},
      "source": [
        "3. **What is the most common type of primary exterior material?**\n",
        "   - Variable: `Exterior_1st`"
      ]
    },
    {
      "cell_type": "code",
      "metadata": {},
      "source": [
        "# Create a plot to show the distribution of Exterior_1st\n",
        "# ANSWER HERE"
      ],
      "execution_count": null,
      "outputs": []
    },
    {
      "cell_type": "markdown",
      "metadata": {},
      "source": [
        "4. **How does the price vary across different exterior types?**\n",
        "   - Variables: `Exterior_1st`, `price`"
      ]
    },
    {
      "cell_type": "code",
      "metadata": {},
      "source": [
        "# Create a plot to show how price varies across Exterior_1st\n",
        "# ANSWER HERE"
      ],
      "execution_count": null,
      "outputs": []
    },
    {
      "cell_type": "markdown",
      "metadata": {},
      "source": [
        "5. **Which neighborhoods have the highest proportions of Single-family Detached homes?**\n",
        "   - Variables: `Neighborhood`, `Bldg_Type`"
      ]
    },
    {
      "cell_type": "code",
      "metadata": {},
      "source": [
        "# Create a plot to show the proportions of Single-family Detached homes across neighborhoods\n",
        "# ANSWER HERE"
      ],
      "execution_count": null,
      "outputs": []
    },
    {
      "cell_type": "markdown",
      "metadata": {},
      "source": [
        "## Part 2: Fixing Errors\n",
        "\n",
        "The following code chunk attempts to create a stacked bar chart of the `Central_Air` variable, but it contains several syntax errors. Your task is to correct the errors and improve the readability of the code."
      ]
    },
    {
      "cell_type": "code",
      "metadata": {},
      "source": [
        "# First we use the replace method to change values according to the mapping\n",
        "# We have not taught this yet, but you should be able to read and understand the gist of it\n",
        "\n",
        "# Define a dictionary to map the values (replace with their full names)\n",
        "heating_qc_labels = [\n",
        "    \"Ex\": \"Excellent\"\n",
        "    \"Gd\": \"Good\"\n",
        "    \"TA\": \"Average/Typical\",\n",
        "    \"Fa\": \"Fair\",\n",
        "    \"Po\": \"Poor\",\n",
        "]\n",
        "\n",
        "central_air_labels = {\n",
        "    \"Y\": \"Central Air Conditioning\",\n",
        "    \"N\": \"No Central Air Conditioning\",\n",
        "}\n",
        "\n",
        "# Apply the mapping to the DataFrame\n",
        "ames = ames.assign(\n",
        "    Heating_QC_full=lambda df: df.Heating_QC.replace(heating_qc_labels),\n",
        "    Central_Air_full=lambda df: df.Central_Air.replace(central_air_LABEL),\n",
        ")\n",
        "\n",
        "# Create the plot with the updated DataFrame\n",
        "fig = px.histogram(\n",
        "    AMES,\n",
        "    y=\"Central_Air_full\",\n",
        "    color=\"Heating_QC_full\",\n",
        "    barnorm=\"percent\",\n",
        "    color_discrete_sequence=[\"#d9534f\", \"#e39283\", \"#e8c590\", \"#a3c9a8\", \"#5cb85c\"],\n",
        "    category_orders={\n",
        "        \"Heating_QC_full\": [\"Poor\", \"Fair\", \"Average/Typical\", \"Good\", \"Excellent\"],\n",
        "        \"Central_Air_full\": [\"No Central Air Conditioning\", \"Central Air Conditioning\"],\n",
        "    },\n",
        "    labels={\n",
        "        \"Central_Air_full\": \"\",\n",
        "        \"Heating_QC_full\": \"Heating Quality\",\n",
        "    },\n",
        "    title=\"Central Air Conditioning by Heating Quality in Ames Housing\",\n",
        ")\n",
        "fig"
      ],
      "execution_count": null,
      "outputs": []
    },
    {
      "cell_type": "markdown",
      "metadata": {},
      "source": [
        "### Instructions:\n",
        "\n",
        "a. Identify and correct the syntax errors in the script so that it runs correctly.\n",
        "\n",
        "b. Run the corrected code and observe the output.\n",
        "\n",
        "c. Interpret the resulting plot.\n",
        "\n",
        "## Part 2b: Exterior Condition by Exterior Type\n",
        "\n",
        "Following the example above, create a horizontal percent-stacked bar chart showing the relationship between the type of exterior wall material (`Exterior_1st`) and the condition of the exterior wall (`Exter_Cond`).\n",
        "\n",
        "- Your **y-axis** should be the `Exterior_1st` variable, and the values should have their full names shown on the plot.\n",
        "\n",
        "- The **x-axis** should be the `Exter_Cond` variable, and the values should also show the full names on the plot.\n",
        "\n",
        "- Feel free to use the same color scheme as in the example above.\n",
        "\n",
        "- Your plot should have an appropriate title."
      ]
    },
    {
      "cell_type": "code",
      "metadata": {},
      "source": [
        "# Create the plot as per instructions\n",
        "# ANSWER HERE"
      ],
      "execution_count": null,
      "outputs": []
    },
    {
      "cell_type": "markdown",
      "metadata": {},
      "source": [
        "## Part 3: Visualization with a For Loop\n",
        "\n",
        "The plot below shows the distribution of the Roof style (`Roof_Style`) variable faceted by the slope of the property (`Land_Slope`)."
      ]
    },
    {
      "cell_type": "code",
      "metadata": {},
      "source": [
        "px.histogram(ames, x=\"Roof_Style\", color=\"Land_Slope\", facet_col=\"Land_Slope\")"
      ],
      "execution_count": null,
      "outputs": []
    },
    {
      "cell_type": "markdown",
      "metadata": {},
      "source": [
        "Recreate the same set of plots but using a for loop to iterate over the `Land_Slope` variable. The values for land slope are:\n",
        "\n",
        "- **Gtl**: Gentle slope\n",
        "\n",
        "- **Mod**: Moderate slope\n",
        "\n",
        "- **Sev**: Severe slope\n",
        "\n",
        "For each land slope category, create a plot showing the distribution of `Roof_Style`."
      ]
    },
    {
      "cell_type": "code",
      "metadata": {},
      "source": [
        "# Use a for loop to create the plots\n",
        "# ANSWER HERE"
      ],
      "execution_count": null,
      "outputs": []
    },
    {
      "cell_type": "markdown",
      "metadata": {},
      "source": [
        "## Part 4: Multivariate Plot Individual Assignment\n",
        "\n",
        "For this section, you will work individually. Your chosen plot should not be the same as those of your group members.\n",
        "\n",
        "- Look through the dataset and decide on three or four variables that could be visualized on a single plot (or on a faceted plot).\n",
        "\n",
        "- Create a multivariate plot that visualizes these variables.\n",
        "\n",
        "- Write a brief interpretation of any findings you can deduce from the plot."
      ]
    },
    {
      "cell_type": "code",
      "metadata": {},
      "source": [
        "# Create your multivariate plot\n",
        "# ANSWER HERE"
      ],
      "execution_count": null,
      "outputs": []
    }
  ],
  "metadata": {
    "kernelspec": {
      "name": "python3",
      "language": "python",
      "display_name": "Python 3 (ipykernel)",
      "path": "/Users/kendavidn/Dropbox/tgc_github_projects/idap_book/.venv/share/jupyter/kernels/python3"
    }
  },
  "nbformat": 4,
  "nbformat_minor": 4
}